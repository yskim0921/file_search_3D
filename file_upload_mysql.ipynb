{
 "cells": [
  {
   "cell_type": "markdown",
   "id": "3e1ee08f",
   "metadata": {},
   "source": [
    "# 기본 패키지 설치"
   ]
  },
  {
   "cell_type": "code",
   "execution_count": null,
   "id": "27655df4",
   "metadata": {},
   "outputs": [],
   "source": [
    "# 가상환경을 만든 뒤 진행\n",
    "pip install langchain-community pymysql   # DB 연결은 나중에 필요, 지금은 로드 용도로도 필요 없음\n",
    "# 문서 타입별 로더가 필요하면 아래 패키지도 설치\n",
    "pip install unstructured                 # docx, html 등 Unstructured 계열 로더\n",
    "pip install PyPDF2                       # pdf 로더 (PyPDFLoader 내부에서 사용)\n",
    "pip install pandas                       # CSV 로더용"
   ]
  },
  {
   "cell_type": "code",
   "execution_count": 11,
   "id": "311e50b1",
   "metadata": {},
   "outputs": [
    {
     "name": "stdout",
     "output_type": "stream",
     "text": [
      "0.3.31\n"
     ]
    }
   ],
   "source": [
    "import langchain_community\n",
    "print(langchain_community.__version__)"
   ]
  },
  {
   "cell_type": "markdown",
   "id": "4ba220bb",
   "metadata": {},
   "source": [
    "# 임포트"
   ]
  },
  {
   "cell_type": "code",
   "execution_count": 12,
   "id": "9038f800",
   "metadata": {},
   "outputs": [],
   "source": [
    "import os\n",
    "from langchain_community.llms import Ollama\n",
    "from langchain.chains.summarize import load_summarize_chain\n",
    "from langchain_core.prompts import PromptTemplate\n",
    "import pymysql"
   ]
  },
  {
   "cell_type": "markdown",
   "id": "846f1eca",
   "metadata": {},
   "source": [
    "# 파일주소 입력"
   ]
  },
  {
   "cell_type": "code",
   "execution_count": 13,
   "id": "65d69ee1",
   "metadata": {},
   "outputs": [],
   "source": [
    "# 파일 정보\n",
    "file_path = \"fileList/IT기사.docx\"\n",
    "file_name = os.path.basename(file_path)\n",
    "file_location = os.path.abspath(file_path)"
   ]
  },
  {
   "cell_type": "markdown",
   "id": "9bf0854c",
   "metadata": {},
   "source": [
    "# 파일 불러오기 전체 코드 (Jupyter/스크립트 겸용)"
   ]
  },
  {
   "cell_type": "code",
   "execution_count": 14,
   "id": "ceb2559f",
   "metadata": {},
   "outputs": [],
   "source": [
    "def load_document(file_path: str):\n",
    "    # 파일 확장자에 따라 적절한 LangChain DocumentLoader로 문서를 불러옵니다.\n",
    "    ext = os.path.splitext(file_path)[1].lower()\n",
    "    if ext == \".docx\":\n",
    "        from langchain_community.document_loaders import UnstructuredWordDocumentLoader\n",
    "        loader = UnstructuredWordDocumentLoader(file_path)\n",
    "    elif ext == \".pdf\":\n",
    "        from langchain_community.document_loaders import PyPDFLoader\n",
    "        loader = PyPDFLoader(file_path)\n",
    "    elif ext == \".csv\":\n",
    "        from langchain_community.document_loaders import CSVLoader\n",
    "        loader = CSVLoader(file_path, encoding=\"utf-8\")\n",
    "    elif ext == \".txt\":\n",
    "        from langchain_community.document_loaders import TextLoader\n",
    "        loader = TextLoader(file_path, encoding=\"utf-8\")\n",
    "    elif ext in (\".html\", \".htm\"):\n",
    "        from langchain_community.document_loaders import UnstructuredFileLoader\n",
    "        loader = UnstructuredFileLoader(file_path, mode=\"elements\")\n",
    "    else:\n",
    "        from langchain_community.document_loaders import UnstructuredFileLoader\n",
    "        loader = UnstructuredFileLoader(file_path, mode=\"elements\")\n",
    "    docs = loader.load()\n",
    "    return docs\n"
   ]
  },
  {
   "cell_type": "markdown",
   "id": "8c944db2",
   "metadata": {},
   "source": [
    "# 파일 로드 확인"
   ]
  },
  {
   "cell_type": "code",
   "execution_count": 15,
   "id": "72f773f0",
   "metadata": {},
   "outputs": [
    {
     "name": "stdout",
     "output_type": "stream",
     "text": [
      "❌ 문서 로드 실패: cannot import name 'is_cjk_uncommon' from 'charset_normalizer.utils' (/home/alpaco/anaconda3/envs/file_upload/lib/python3.10/site-packages/charset_normalizer/utils.py)\n"
     ]
    }
   ],
   "source": [
    "# 파일이 실제로 존재하는지 체크\n",
    "if not os.path.isfile(file_path):\n",
    "    print(f\"❌ 파일이 존재하지 않습니다: {file_path}\")\n",
    "else:\n",
    "    try:\n",
    "        docs = load_document(file_path)\n",
    "        print(f\"✅ 로드 완료 – 총 {len(docs)} 개 청크/페이지\")\n",
    "        if docs:\n",
    "            # 모든 청크 출력\n",
    "            for i, doc in enumerate(docs):\n",
    "                print(f\"\\n--- 문서 청크 {i+1} ---\\n{doc.page_content}\\n\")\n",
    "        else:\n",
    "            print(\"문서에 내용이 없습니다.\")\n",
    "    except Exception as e:\n",
    "        print(f\"❌ 문서 로드 실패: {e}\")"
   ]
  },
  {
   "cell_type": "markdown",
   "id": "c93e57b3",
   "metadata": {},
   "source": [
    "# 프롬프트 템플릿"
   ]
  },
  {
   "cell_type": "code",
   "execution_count": null,
   "id": "a1645ec3",
   "metadata": {},
   "outputs": [],
   "source": [
    "PROMPT_TEMPLATE = \"\"\"\n",
    "다음 문서 내용을 분석하여 아래 항목을 한글로 한 줄씩 추출해줘.\n",
    "\n",
    "title: 문서의 제목을 한 줄로,\n",
    "summary: 전체 내용을 1000자 이내로 줄거리처럼 요약해줘. (띄어쓰기 포함 1000자 이하, 너무 짧게 쓰지 말고 최대한 자세히)\n",
    "keywords: 문서의 핵심 단어를 50개 정도, 쉼표(,)로 구분해서 한 줄로 나열해줘.\n",
    "\n",
    "아래 형식으로만 출력해줘.\n",
    "title: ...\n",
    "summary: ...\n",
    "keywords: ...\n",
    "\n",
    "문서 내용:\n",
    "\"{text}\"\n",
    "\"\"\"\n",
    "\n",
    "CUSTOM_PROMPT = PromptTemplate(template=PROMPT_TEMPLATE, input_variables=[\"text\"])\n"
   ]
  },
  {
   "cell_type": "code",
   "execution_count": 74,
   "id": "74ca6604",
   "metadata": {},
   "outputs": [],
   "source": [
    "# 3. LLM 요약 함수\n",
    "def summarize_with_llm(docs):\n",
    "    llm = Ollama(model=\"exaone3.5:2.4b\")\n",
    "    summarize_chain = load_summarize_chain(\n",
    "        llm,\n",
    "        chain_type=\"stuff\",\n",
    "        prompt=CUSTOM_PROMPT\n",
    "    )\n",
    "    result = summarize_chain.invoke(docs)\n",
    "    return result[\"output_text\"]"
   ]
  },
  {
   "cell_type": "code",
   "execution_count": null,
   "id": "d3508d1e",
   "metadata": {},
   "outputs": [],
   "source": [
    "# 4. LLM 결과 파싱 함수\n",
    "import re\n",
    "def parse_llm_output(output_text):\n",
    "    # 정규식으로 각 항목 추출\n",
    "    title = re.search(r\"title\\s*:\\s*(.*)\", output_text)\n",
    "    summary = re.search(r\"summary\\s*:\\s*(.*)\", output_text)\n",
    "    keywords = re.search(r\"keywords\\s*:\\s*(.*)\", output_text)\n",
    "    return {\n",
    "        \"title\": title.group(1).strip() if title else \"\",\n",
    "        \"summary\": summary.group(1).strip() if summary else \"\",\n",
    "        \"keywords\": keywords.group(1).strip() if keywords else \"\",\n",
    "    }"
   ]
  },
  {
   "cell_type": "code",
   "execution_count": null,
   "id": "27fee682",
   "metadata": {},
   "outputs": [
    {
     "name": "stdout",
     "output_type": "stream",
     "text": [
      "✅ 문서 로드 완료. 청크 수: 14\n",
      "\n",
      "--- LLM 출력 ---\n",
      " doctype html\n",
      "html lang=\"ko\">\n",
      "<head>\n",
      "    <meta charset=\"UTF-8\">\n",
      "    <meta name=\"viewport\" content=\"width=device-width, initial-scale=1.0\">\n",
      "    <title>문화상품권 온라인 신청 - 신문 구독 지원</title>\n",
      "</head>\n",
      "<body>\n",
      "    <h1>문화상품권 온라인 신청</h1>\n",
      "    <h2>신문 구독 지원 안내</h2>\n",
      "    \n",
      "    <h3>신청 안내</h3>\n",
      "    <ul>\n",
      "        <li><strong>신청대상</strong>: 기초생활수급자, 차상위계층, 장애인으로 확인된 분들</li>\n",
      "        <li><strong>신청기간</strong>: 매년 1월 2일부터 ~ 12월 31일까지</li>\n",
      "        <li><strong>신청방법</strong>: 정부24 홈페이지 또는 모바일 앱을 통해 신청 가능</li>\n",
      "        <li><strong>문화누리카드 소지 여부 무관</strong>: 문화상품권 소지 여부와 관계없이 신청 가능</li>\n",
      "        <li><strong>신청 후 확인</strong>: MY GOV 메뉴에서 신청 완료 상태 확인</li>\n",
      "    </ul>\n",
      "    \n",
      "    <h3>자주 묻는 질문</h3>\n",
      "    <section>\n",
      "        <h4>Q1</h4>\n",
      "        <p><strong>A1</strong> - 신청 결과는 신청수요 및 배달지역 사정에 따라 결정되며, 2순위 희망 신문으로 선정될 수 있습니다.</p>\n",
      "        <p><strong>Q1</strong> - <strong>A2</strong> 신청하면 모두 선정이 될 수 있습니다.</p>\n",
      "        <h4>Q2</h4>\n",
      "        <p><strong>A3</strong> - 2025년 1월 2일부터 신청 가능합니다.</p>\n",
      "        <p><strong>Q2</strong> - <strong>A3</strong> 언제 신청하면 되나요?</p>\n",
      "        <h4>Q3</h4>\n",
      "        <p><strong>A4</strong> - 구독 지원 기간은 2025년 1월 2일부터 ~ 2025년 12월 31일까지 1년간입니다.</p>\n",
      "        <h4>Q4</h4>\n",
      "        <p><strong>Q4</strong> - 구독 지원 기간이 언제부터 언제까지 인가요?</p>\n",
      "    </section>\n",
      "    \n",
      "    <h3>신청 시 유의사항</h3>\n",
      "    <ul>\n",
      "        <li><strong>선정 기준</strong>: 한 가구에서 가능한 한 두 개의 희망 신문을 선택하여 신청하며, 배달 가능한 1부만 지원됩니다.</li>\n",
      "        <li><strong>기존 유료 신문 신청 시</strong>: 신청 후 자동 중지되지 않으며, 기존 유료 신문의 구독 중지를 원하실 경우 신문사로 개별 문의 바랍니다.</li>\n",
      "        <li><strong>신청 확인</strong>: 정부24 사이트의 MY GOV 메뉴에서 신청 상태를 확인 가능</li>\n",
      "        <li><strong>신청 취소</strong>: 신청 후 접수 또는 처리불가 상태가 되었을 경우 중복 신청 가능성이 있으므로 확인 바랍니다.</li>\n",
      "    </ul>\n",
      "    \n",
      "    <h3>지원 종료 및 연장</h3>\n",
      "    <ul>\n",
      "        <li><strong>지원 종료</strong>: 매년 12월 말까지 신청 가능하며, 신청 기간이 끝나면 종료됩니다.</li>\n",
      "        <li><strong>지원 연장</strong>: 매년 1월 초 정부24 홈페이지를 통해 재신청이 가능합니다.</li>\n",
      "    </ul>\n",
      "    \n",
      "    <h3>지원 후 관리</h3>\n",
      "    <ul>\n",
      "        <li><strong>구독 중지</strong>: 단순 변심으로 구독을 중지할 경우 다음 해 신청은 불가능합니다.</li>\n",
      "        <li><strong>변경 가능성</strong>: 확정 이후에는 다른 신문으로 변경할 수 없습니다. 신문배달 지국의 경영 악화나 폐업 등의 사유가 발생할 경우에만 변경이 가능합니다.</li>\n",
      "        <li><strong>변경 요청</strong>: 변경이나 중지 시 지국의 전화번호를 통해 문의 가능하며, 지국 운영 상황에 따라 거절될 수 있습니다.</li>\n",
      "    </ul>\n",
      "    \n",
      "    <h3>문의</h3>\n",
      "    <p><strong>문의사항</strong>: 위 안내에 불명확한 사항이 있으면 관련 신문사 전화번호로 문의 바랍니다.</p>\n",
      "    <p><strong>문의번호</strong>: 전화번호 안내는 관련 신문 사이트나 한국언론진흥재단으로 문의 가능합니다.</p>\n",
      "    <p><strong>문의처</strong>: 한국언론진흥재단 신문유통팀 ☏(02-2001-7557)</p>\n",
      "</body>\n",
      "</html>\n",
      "\n",
      "--- 최종 결과 ---\n",
      "doc_type: \n",
      "title: \n",
      "summary: \n",
      "keywords: \n",
      "file_location: /home/alpaco/final_project/file_search/fileList/2025년 신문 구독 지원 신청 전 필독사항.pdf\n",
      "file_name: 2025년 신문 구독 지원 신청 전 필독사항.pdf\n"
     ]
    }
   ],
   "source": [
    "# 6. 실행\n",
    "if not os.path.isfile(file_path):\n",
    "    print(f\"❌ 파일이 존재하지 않습니다: {file_path}\")\n",
    "else:\n",
    "    docs = load_document(file_path)\n",
    "    print(f\"✅ 문서 로드 완료. 청크 수: {len(docs)}\")\n",
    "    llm_output = summarize_with_llm(docs)\n",
    "    print(\"\\n--- LLM 출력 ---\\n\", llm_output)\n",
    "    parsed = parse_llm_output(llm_output)\n",
    "    print(\"\\n--- 최종 결과 ---\")\n",
    "    print(\"title:\", parsed[\"title\"])\n",
    "    print(\"summary:\", parsed[\"summary\"])\n",
    "    print(\"keywords:\", parsed[\"keywords\"])\n",
    "    print(\"file_location:\", file_location)\n",
    "    print(\"file_name:\", file_name)"
   ]
  },
  {
   "cell_type": "markdown",
   "id": "1c7790e0",
   "metadata": {},
   "source": [
    "# Mysql DB에 저장하기"
   ]
  },
  {
   "cell_type": "code",
   "execution_count": 54,
   "id": "e8d99882",
   "metadata": {},
   "outputs": [],
   "source": [
    "# 1. DB 접속 정보\n",
    "DB_CONFIG = {\n",
    "    'host': 'localhost', \n",
    "    'user': 'admin', \n",
    "    'password': '1qazZAQ!', \n",
    "    'db': 'final', \n",
    "    'charset': 'utf8mb4'\n",
    "}"
   ]
  },
  {
   "cell_type": "code",
   "execution_count": null,
   "id": "2b8a2021",
   "metadata": {},
   "outputs": [],
   "source": [
    "# 2. 변수선언\n",
    "title = parsed[\"title\"]\n",
    "summary = parsed[\"summary\"]\n",
    "keywords = parsed[\"keywords\"]\n",
    "# file_location, file_name은 위에서 이미 선언됨"
   ]
  },
  {
   "cell_type": "code",
   "execution_count": null,
   "id": "0c9929fb",
   "metadata": {},
   "outputs": [
    {
     "name": "stdout",
     "output_type": "stream",
     "text": [
      "✅ DB 저장 완료!\n"
     ]
    }
   ],
   "source": [
    "# 3. DB에 INSERT\n",
    "try:\n",
    "    conn = pymysql.connect(**DB_CONFIG)\n",
    "    with conn.cursor() as cursor:\n",
    "        sql = \"\"\"\n",
    "        INSERT INTO documents\n",
    "        (title, summary, keywords, file_location, file_name, created_at)\n",
    "        VALUES (%s, %s, %s, %s, %s, NOW())\n",
    "        \"\"\"\n",
    "        cursor.execute(sql, (title, summary, keywords, file_location, file_name))\n",
    "    conn.commit()\n",
    "    print(\"✅ DB 저장 완료!\")\n",
    "except Exception as e:\n",
    "    print(\"❌ DB 저장 실패:\", e)\n",
    "finally:\n",
    "    if 'conn' in locals():\n",
    "        conn.close()"
   ]
  },
  {
   "cell_type": "code",
   "execution_count": null,
   "id": "1c50ef78",
   "metadata": {},
   "outputs": [],
   "source": []
  }
 ],
 "metadata": {
  "kernelspec": {
   "display_name": "file_upload",
   "language": "python",
   "name": "python3"
  },
  "language_info": {
   "codemirror_mode": {
    "name": "ipython",
    "version": 3
   },
   "file_extension": ".py",
   "mimetype": "text/x-python",
   "name": "python",
   "nbconvert_exporter": "python",
   "pygments_lexer": "ipython3",
   "version": "3.10.18"
  }
 },
 "nbformat": 4,
 "nbformat_minor": 5
}
